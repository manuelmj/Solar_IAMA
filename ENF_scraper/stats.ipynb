{
 "cells": [
  {
   "cell_type": "markdown",
   "metadata": {},
   "source": [
    "# ***Notebook for the representation of data in the subtables *** "
   ]
  },
  {
   "cell_type": "markdown",
   "metadata": {},
   "source": [
    "\n",
    "first, importing pandas dependencies and reading the excel file "
   ]
  },
  {
   "cell_type": "code",
   "execution_count": 2,
   "metadata": {},
   "outputs": [],
   "source": [
    "import pandas as pd\n",
    "df = pd.read_excel('ENF_scraper/enfsolar_datasheet.xlsx')"
   ]
  },
  {
   "cell_type": "markdown",
   "metadata": {},
   "source": [
    "\n",
    "## ***tablas con los datos agrupados de los paneles solares***\n",
    "1. *Quantity of panel types* \n",
    "2. *Quantity of panels by manufacturer* \n",
    "3. *maximum amount of power in the panels*\n",
    "4. *Quantity of panel types by manufacturer*\n"
   ]
  },
  {
   "cell_type": "code",
   "execution_count": 68,
   "metadata": {},
   "outputs": [],
   "source": [
    "df_panel_types = df.groupby([\"pv_type\"])[\"pv_type\"].count().reset_index(name=\"count\")\n",
    "df_panel_company = df.groupby([\"company name\"])[\"company name\"].count().reset_index(name=\"count\")\n",
    "df_panel_power = df.groupby([\"pmax stc\"])[\"pmax stc\"].count().reset_index(name=\"count\")\n",
    "df_panel_company_extend = pd.pivot_table(df[[\"company name\",\"pv_type\"]],index=\"company name\",columns=\"pv_type\",aggfunc= len,fill_value=0)\n"
   ]
  },
  {
   "cell_type": "code",
   "execution_count": null,
   "metadata": {},
   "outputs": [],
   "source": [
    "df_panel_company_extend.reset_index(inplace=True)\n",
    "df_panel_company_extend.sort_values(\"company name\").style.hide_index()"
   ]
  },
  {
   "cell_type": "code",
   "execution_count": null,
   "metadata": {},
   "outputs": [],
   "source": [
    "df_panel_types.sort_values(\"count\", ascending=False).style.hide_index()"
   ]
  },
  {
   "cell_type": "code",
   "execution_count": null,
   "metadata": {},
   "outputs": [],
   "source": [
    "df_panel_company.sort_values(\"count\", ascending=False).style.hide_index()\n"
   ]
  },
  {
   "cell_type": "code",
   "execution_count": null,
   "metadata": {},
   "outputs": [],
   "source": [
    "df_panel_power.sort_values(\"pmax stc\", ascending=False).style.hide_index()"
   ]
  },
  {
   "cell_type": "markdown",
   "metadata": {},
   "source": [
    "nuevo dataframe sin valores de la pruebas noct "
   ]
  },
  {
   "cell_type": "code",
   "execution_count": 74,
   "metadata": {},
   "outputs": [
    {
     "data": {
      "text/html": [
       "<div>\n",
       "<style scoped>\n",
       "    .dataframe tbody tr th:only-of-type {\n",
       "        vertical-align: middle;\n",
       "    }\n",
       "\n",
       "    .dataframe tbody tr th {\n",
       "        vertical-align: top;\n",
       "    }\n",
       "\n",
       "    .dataframe thead th {\n",
       "        text-align: right;\n",
       "    }\n",
       "</style>\n",
       "<table border=\"1\" class=\"dataframe\">\n",
       "  <thead>\n",
       "    <tr style=\"text-align: right;\">\n",
       "      <th></th>\n",
       "      <th>company name</th>\n",
       "      <th>pv name</th>\n",
       "      <th>pv model</th>\n",
       "      <th>pv_type</th>\n",
       "      <th>pmax stc</th>\n",
       "      <th>vmax stc</th>\n",
       "      <th>voc stc</th>\n",
       "      <th>isc stc</th>\n",
       "      <th>imax stc</th>\n",
       "      <th>efficiency stc</th>\n",
       "      <th>tolerance</th>\n",
       "      <th>temp range</th>\n",
       "      <th>temp pmax coef</th>\n",
       "      <th>temp voc coef</th>\n",
       "      <th>temp isc coef</th>\n",
       "    </tr>\n",
       "  </thead>\n",
       "  <tbody>\n",
       "    <tr>\n",
       "      <th>0</th>\n",
       "      <td>Jinko Solar</td>\n",
       "      <td>Cheetah HC 72M-V 390-410Watt</td>\n",
       "      <td>JKM390M-72H-V</td>\n",
       "      <td>PERC</td>\n",
       "      <td>390 Wp</td>\n",
       "      <td>41,1 V</td>\n",
       "      <td>49,3 V</td>\n",
       "      <td>10,12 A</td>\n",
       "      <td>9,49 A</td>\n",
       "      <td>19,38 %</td>\n",
       "      <td>+ 3 %</td>\n",
       "      <td>-40~85 °C</td>\n",
       "      <td>-0,36 %/°C</td>\n",
       "      <td>-0,28 %/°C</td>\n",
       "      <td>0,048 %/°C</td>\n",
       "    </tr>\n",
       "    <tr>\n",
       "      <th>1</th>\n",
       "      <td>Jinko Solar</td>\n",
       "      <td>Cheetah HC 72M-V 390-410Watt</td>\n",
       "      <td>JKM395M-72H-V</td>\n",
       "      <td>PERC</td>\n",
       "      <td>395 Wp</td>\n",
       "      <td>41,4 V</td>\n",
       "      <td>49,5 V</td>\n",
       "      <td>10,23 A</td>\n",
       "      <td>9,55 A</td>\n",
       "      <td>19,63 %</td>\n",
       "      <td>+ 3 %</td>\n",
       "      <td>-40~85 °C</td>\n",
       "      <td>-0,36 %/°C</td>\n",
       "      <td>-0,28 %/°C</td>\n",
       "      <td>0,048 %/°C</td>\n",
       "    </tr>\n",
       "    <tr>\n",
       "      <th>2</th>\n",
       "      <td>Jinko Solar</td>\n",
       "      <td>Cheetah HC 72M-V 390-410Watt</td>\n",
       "      <td>JKM400M-72H-V</td>\n",
       "      <td>PERC</td>\n",
       "      <td>400 Wp</td>\n",
       "      <td>41,7 V</td>\n",
       "      <td>49,8 V</td>\n",
       "      <td>10,36 A</td>\n",
       "      <td>9,6 A</td>\n",
       "      <td>19,88 %</td>\n",
       "      <td>+ 3 %</td>\n",
       "      <td>-40~85 °C</td>\n",
       "      <td>-0,36 %/°C</td>\n",
       "      <td>-0,28 %/°C</td>\n",
       "      <td>0,048 %/°C</td>\n",
       "    </tr>\n",
       "    <tr>\n",
       "      <th>3</th>\n",
       "      <td>Jinko Solar</td>\n",
       "      <td>Cheetah HC 72M-V 390-410Watt</td>\n",
       "      <td>JKM405M-72H-V</td>\n",
       "      <td>PERC</td>\n",
       "      <td>405 Wp</td>\n",
       "      <td>42 V</td>\n",
       "      <td>50,1 V</td>\n",
       "      <td>10,48 A</td>\n",
       "      <td>9,65 A</td>\n",
       "      <td>20,13 %</td>\n",
       "      <td>+ 3 %</td>\n",
       "      <td>-40~85 °C</td>\n",
       "      <td>-0,36 %/°C</td>\n",
       "      <td>-0,28 %/°C</td>\n",
       "      <td>0,048 %/°C</td>\n",
       "    </tr>\n",
       "    <tr>\n",
       "      <th>4</th>\n",
       "      <td>Jinko Solar</td>\n",
       "      <td>Cheetah HC 72M-V 390-410Watt</td>\n",
       "      <td>JKM410M-72H-V</td>\n",
       "      <td>PERC</td>\n",
       "      <td>410 Wp</td>\n",
       "      <td>42,3 V</td>\n",
       "      <td>50,4 V</td>\n",
       "      <td>10,6 A</td>\n",
       "      <td>9,69 A</td>\n",
       "      <td>20,38 %</td>\n",
       "      <td>+ 3 %</td>\n",
       "      <td>-40~85 °C</td>\n",
       "      <td>-0,36 %/°C</td>\n",
       "      <td>-0,28 %/°C</td>\n",
       "      <td>0,048 %/°C</td>\n",
       "    </tr>\n",
       "  </tbody>\n",
       "</table>\n",
       "</div>"
      ],
      "text/plain": [
       "  company name                       pv name       pv model pv_type pmax stc  \\\n",
       "0  Jinko Solar  Cheetah HC 72M-V 390-410Watt  JKM390M-72H-V    PERC   390 Wp   \n",
       "1  Jinko Solar  Cheetah HC 72M-V 390-410Watt  JKM395M-72H-V    PERC   395 Wp   \n",
       "2  Jinko Solar  Cheetah HC 72M-V 390-410Watt  JKM400M-72H-V    PERC   400 Wp   \n",
       "3  Jinko Solar  Cheetah HC 72M-V 390-410Watt  JKM405M-72H-V    PERC   405 Wp   \n",
       "4  Jinko Solar  Cheetah HC 72M-V 390-410Watt  JKM410M-72H-V    PERC   410 Wp   \n",
       "\n",
       "  vmax stc voc stc  isc stc imax stc efficiency stc tolerance temp range  \\\n",
       "0   41,1 V  49,3 V  10,12 A   9,49 A        19,38 %     + 3 %  -40~85 °C   \n",
       "1   41,4 V  49,5 V  10,23 A   9,55 A        19,63 %     + 3 %  -40~85 °C   \n",
       "2   41,7 V  49,8 V  10,36 A    9,6 A        19,88 %     + 3 %  -40~85 °C   \n",
       "3     42 V  50,1 V  10,48 A   9,65 A        20,13 %     + 3 %  -40~85 °C   \n",
       "4   42,3 V  50,4 V   10,6 A   9,69 A        20,38 %     + 3 %  -40~85 °C   \n",
       "\n",
       "  temp pmax coef temp voc coef temp isc coef  \n",
       "0     -0,36 %/°C    -0,28 %/°C    0,048 %/°C  \n",
       "1     -0,36 %/°C    -0,28 %/°C    0,048 %/°C  \n",
       "2     -0,36 %/°C    -0,28 %/°C    0,048 %/°C  \n",
       "3     -0,36 %/°C    -0,28 %/°C    0,048 %/°C  \n",
       "4     -0,36 %/°C    -0,28 %/°C    0,048 %/°C  "
      ]
     },
     "execution_count": 74,
     "metadata": {},
     "output_type": "execute_result"
    }
   ],
   "source": [
    "df_stc = df.copy()\n",
    "df_stc = df_stc.dropna(subset=[\"pmax noct\",\"pmax stc\"])\n",
    "df_stc = df_stc[[col for col in df.columns.to_list() if \"noct\" not in col ]]\n",
    "#print(len(df_stc.index))\n",
    "df_stc.head(5)"
   ]
  },
  {
   "cell_type": "markdown",
   "metadata": {},
   "source": [
    "tabla de cuantos paneles tienen stc y noct "
   ]
  },
  {
   "cell_type": "code",
   "execution_count": 67,
   "metadata": {},
   "outputs": [
    {
     "data": {
      "text/html": [
       "<style type=\"text/css\">\n",
       "</style>\n",
       "<table id=\"T_d1056_\">\n",
       "  <thead>\n",
       "    <tr>\n",
       "      <th class=\"col_heading level0 col0\" >PV FEATURES</th>\n",
       "      <th class=\"col_heading level0 col1\" >TOTAL</th>\n",
       "      <th class=\"col_heading level0 col2\" >%</th>\n",
       "    </tr>\n",
       "  </thead>\n",
       "  <tbody>\n",
       "    <tr>\n",
       "      <td id=\"T_d1056_row0_col0\" class=\"data row0 col0\" >STC</td>\n",
       "      <td id=\"T_d1056_row0_col1\" class=\"data row0 col1\" >1709</td>\n",
       "      <td id=\"T_d1056_row0_col2\" class=\"data row0 col2\" >78.001000</td>\n",
       "    </tr>\n",
       "    <tr>\n",
       "      <td id=\"T_d1056_row1_col0\" class=\"data row1 col0\" >NOCT</td>\n",
       "      <td id=\"T_d1056_row1_col1\" class=\"data row1 col1\" >482</td>\n",
       "      <td id=\"T_d1056_row1_col2\" class=\"data row1 col2\" >21.999000</td>\n",
       "    </tr>\n",
       "    <tr>\n",
       "      <td id=\"T_d1056_row2_col0\" class=\"data row2 col0\" >TOTAL</td>\n",
       "      <td id=\"T_d1056_row2_col1\" class=\"data row2 col1\" >2191</td>\n",
       "      <td id=\"T_d1056_row2_col2\" class=\"data row2 col2\" >100.000000</td>\n",
       "    </tr>\n",
       "  </tbody>\n",
       "</table>\n"
      ],
      "text/plain": [
       "<pandas.io.formats.style.Styler at 0x7f8d6c658c10>"
      ]
     },
     "execution_count": 67,
     "metadata": {},
     "output_type": "execute_result"
    }
   ],
   "source": [
    "stc_len = len(df_stc.index)\n",
    "noct_len = len(df.index)-len(df_stc.index)\n",
    "\n",
    "df_len = len(df.index)\n",
    "\n",
    "df_stc_noct = pd.DataFrame({\"PV FEATURES\":[\"STC\",\"NOCT\"],\"TOTAL\":[stc_len,noct_len],\"%\":[round((stc_len/df_len)*100,3),round(((noct_len)/df_len)*100,3),]})\n",
    "df_stc_noct = df_stc_noct.append({\"PV FEATURES\":\"TOTAL\",\"TOTAL\":df_stc_noct[\"TOTAL\"].sum(),\"%\":df_stc_noct[\"%\"].sum()},ignore_index=True)\n",
    "df_stc_noct.style.hide_index()\n"
   ]
  }
 ],
 "metadata": {
  "kernelspec": {
   "display_name": "Python 3.8.10 64-bit",
   "language": "python",
   "name": "python3"
  },
  "language_info": {
   "codemirror_mode": {
    "name": "ipython",
    "version": 3
   },
   "file_extension": ".py",
   "mimetype": "text/x-python",
   "name": "python",
   "nbconvert_exporter": "python",
   "pygments_lexer": "ipython3",
   "version": "3.8.10"
  },
  "orig_nbformat": 4,
  "vscode": {
   "interpreter": {
    "hash": "916dbcbb3f70747c44a77c7bcd40155683ae19c65e1c03b4aa3499c5328201f1"
   }
  }
 },
 "nbformat": 4,
 "nbformat_minor": 2
}
