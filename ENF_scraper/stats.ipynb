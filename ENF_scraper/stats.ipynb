{
 "cells": [
  {
   "cell_type": "markdown",
   "metadata": {},
   "source": [
    "importing pandas dependencies "
   ]
  },
  {
   "cell_type": "code",
   "execution_count": 2,
   "metadata": {},
   "outputs": [],
   "source": [
    "import pandas as pd\n",
    "import numpy as np\n",
    "from pandas import ExcelWriter"
   ]
  },
  {
   "cell_type": "code",
   "execution_count": 3,
   "metadata": {},
   "outputs": [],
   "source": [
    "df = pd.read_excel('ENF_scraper/enfsolar_datasheet.xlsx')\n"
   ]
  },
  {
   "cell_type": "markdown",
   "metadata": {},
   "source": [
    "creacion de las tablas sacando informacion de cuantos tipos de paneles,compañias y potencias hay "
   ]
  },
  {
   "cell_type": "code",
   "execution_count": 196,
   "metadata": {},
   "outputs": [],
   "source": [
    "df_panel_types = df.groupby([\"pv_type\"])[\"pv_type\"].count().reset_index(name=\"count\")\n",
    "df_panel_company = df.groupby([\"company name\"])[\"company name\"].count().reset_index(name=\"count\")\n",
    "df_panel_power = df.groupby([\"pmax stc\"])[\"pmax stc\"].count().reset_index(name=\"count\")\n",
    "df_panel_company_extend = pd.pivot_table(df[[\"company name\",\"pv_type\"]],index=\"company name\",columns=\"pv_type\",aggfunc= len,fill_value=0)\n"
   ]
  },
  {
   "cell_type": "code",
   "execution_count": null,
   "metadata": {},
   "outputs": [],
   "source": [
    "df_panel_company_extend.reset_index(inplace=True)\n",
    "df_panel_company_extend.sort_values(\"company name\").style.hide_index()"
   ]
  },
  {
   "cell_type": "code",
   "execution_count": null,
   "metadata": {},
   "outputs": [],
   "source": [
    "df_panel_types.sort_values(\"count\", ascending=False).style.hide_index()"
   ]
  },
  {
   "cell_type": "code",
   "execution_count": null,
   "metadata": {},
   "outputs": [],
   "source": [
    "df_panel_company.sort_values(\"count\", ascending=False).style.hide_index()\n"
   ]
  },
  {
   "cell_type": "code",
   "execution_count": null,
   "metadata": {},
   "outputs": [],
   "source": [
    "df_panel_power.sort_values(\"pmax stc\", ascending=False).style.hide_index()"
   ]
  },
  {
   "cell_type": "markdown",
   "metadata": {},
   "source": [
    "nuevo dataframe sin valores de la pruebas noct "
   ]
  },
  {
   "cell_type": "code",
   "execution_count": 27,
   "metadata": {},
   "outputs": [
    {
     "name": "stdout",
     "output_type": "stream",
     "text": [
      "1709\n"
     ]
    }
   ],
   "source": [
    "df_stc = df.copy()\n",
    "df_stc = df_stc.dropna(subset=[\"pmax noct\",\"pmax stc\"])\n",
    "df_stc = df_stc[[col for col in df.columns.to_list() if \"noct\" not in col ]]\n",
    "#print(len(df_stc.index))"
   ]
  },
  {
   "cell_type": "markdown",
   "metadata": {},
   "source": [
    "tabla de cuantos paneles tienen stc y noct "
   ]
  },
  {
   "cell_type": "code",
   "execution_count": 67,
   "metadata": {},
   "outputs": [
    {
     "data": {
      "text/html": [
       "<style type=\"text/css\">\n",
       "</style>\n",
       "<table id=\"T_d1056_\">\n",
       "  <thead>\n",
       "    <tr>\n",
       "      <th class=\"col_heading level0 col0\" >PV FEATURES</th>\n",
       "      <th class=\"col_heading level0 col1\" >TOTAL</th>\n",
       "      <th class=\"col_heading level0 col2\" >%</th>\n",
       "    </tr>\n",
       "  </thead>\n",
       "  <tbody>\n",
       "    <tr>\n",
       "      <td id=\"T_d1056_row0_col0\" class=\"data row0 col0\" >STC</td>\n",
       "      <td id=\"T_d1056_row0_col1\" class=\"data row0 col1\" >1709</td>\n",
       "      <td id=\"T_d1056_row0_col2\" class=\"data row0 col2\" >78.001000</td>\n",
       "    </tr>\n",
       "    <tr>\n",
       "      <td id=\"T_d1056_row1_col0\" class=\"data row1 col0\" >NOCT</td>\n",
       "      <td id=\"T_d1056_row1_col1\" class=\"data row1 col1\" >482</td>\n",
       "      <td id=\"T_d1056_row1_col2\" class=\"data row1 col2\" >21.999000</td>\n",
       "    </tr>\n",
       "    <tr>\n",
       "      <td id=\"T_d1056_row2_col0\" class=\"data row2 col0\" >TOTAL</td>\n",
       "      <td id=\"T_d1056_row2_col1\" class=\"data row2 col1\" >2191</td>\n",
       "      <td id=\"T_d1056_row2_col2\" class=\"data row2 col2\" >100.000000</td>\n",
       "    </tr>\n",
       "  </tbody>\n",
       "</table>\n"
      ],
      "text/plain": [
       "<pandas.io.formats.style.Styler at 0x7f8d6c658c10>"
      ]
     },
     "execution_count": 67,
     "metadata": {},
     "output_type": "execute_result"
    }
   ],
   "source": [
    "stc_len = len(df_stc.index)\n",
    "noct_len = len(df.index)-len(df_stc.index)\n",
    "\n",
    "df_len = len(df.index)\n",
    "\n",
    "df_stc_noct = pd.DataFrame({\"PV FEATURES\":[\"STC\",\"NOCT\"],\"TOTAL\":[stc_len,noct_len],\"%\":[round((stc_len/df_len)*100,3),round(((noct_len)/df_len)*100,3),]})\n",
    "df_stc_noct = df_stc_noct.append({\"PV FEATURES\":\"TOTAL\",\"TOTAL\":df_stc_noct[\"TOTAL\"].sum(),\"%\":df_stc_noct[\"%\"].sum()},ignore_index=True)\n",
    "df_stc_noct.style.hide_index()\n"
   ]
  }
 ],
 "metadata": {
  "kernelspec": {
   "display_name": "Python 3.8.10 64-bit",
   "language": "python",
   "name": "python3"
  },
  "language_info": {
   "codemirror_mode": {
    "name": "ipython",
    "version": 3
   },
   "file_extension": ".py",
   "mimetype": "text/x-python",
   "name": "python",
   "nbconvert_exporter": "python",
   "pygments_lexer": "ipython3",
   "version": "3.8.10"
  },
  "orig_nbformat": 4,
  "vscode": {
   "interpreter": {
    "hash": "916dbcbb3f70747c44a77c7bcd40155683ae19c65e1c03b4aa3499c5328201f1"
   }
  }
 },
 "nbformat": 4,
 "nbformat_minor": 2
}
